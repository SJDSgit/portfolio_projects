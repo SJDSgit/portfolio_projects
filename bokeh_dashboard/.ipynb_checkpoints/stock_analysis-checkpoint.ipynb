{
 "cells": [
  {
   "cell_type": "code",
   "execution_count": 18,
   "id": "3f3fbb5e",
   "metadata": {},
   "outputs": [
    {
     "ename": "IndexError",
     "evalue": "list index out of range",
     "output_type": "error",
     "traceback": [
      "\u001b[1;31m---------------------------------------------------------------------------\u001b[0m",
      "\u001b[1;31mIndexError\u001b[0m                                Traceback (most recent call last)",
      "\u001b[1;32m~\\AppData\\Local\\Temp/ipykernel_18396/1049808541.py\u001b[0m in \u001b[0;36m<module>\u001b[1;34m\u001b[0m\n\u001b[0;32m     44\u001b[0m \u001b[0mcdn_css\u001b[0m\u001b[1;33m=\u001b[0m\u001b[0mCDN\u001b[0m\u001b[1;33m.\u001b[0m\u001b[0mcss_files\u001b[0m\u001b[1;33m\u001b[0m\u001b[1;33m\u001b[0m\u001b[0m\n\u001b[0;32m     45\u001b[0m \u001b[0mcdn_js\u001b[0m\u001b[1;33m[\u001b[0m\u001b[1;36m0\u001b[0m\u001b[1;33m]\u001b[0m\u001b[1;33m\u001b[0m\u001b[1;33m\u001b[0m\u001b[0m\n\u001b[1;32m---> 46\u001b[1;33m \u001b[0mcdn_css\u001b[0m\u001b[1;33m[\u001b[0m\u001b[1;36m0\u001b[0m\u001b[1;33m]\u001b[0m\u001b[1;33m\u001b[0m\u001b[1;33m\u001b[0m\u001b[0m\n\u001b[0m",
      "\u001b[1;31mIndexError\u001b[0m: list index out of range"
     ]
    }
   ],
   "source": [
    "from pandas_datareader import data\n",
    "import datetime\n",
    "from bokeh.plotting import figure,show,output_file\n",
    "from bokeh.embed import components\n",
    "from bokeh.resources import CDN\n",
    "\n",
    "start=datetime.datetime(2021,1,1)\n",
    "end=datetime.datetime(2022,2,3)\n",
    "\n",
    "df=data.DataReader(name=\"TSLA\",data_source=\"yahoo\",start=start,end=end)\n",
    "\n",
    "def inc_dec(c,o):\n",
    "    if c>o:\n",
    "        value='Increase'\n",
    "    elif c<o:\n",
    "        value='Decrease'\n",
    "    else:\n",
    "        value='Equal'\n",
    "    return value\n",
    "df['Status']=[inc_dec(c,o) for c,o in zip(df.Close,df.Open)]\n",
    "\n",
    "df['Middle']=(df.Open+df.Close)/2\n",
    "df['Height']=(df.Close-df.Open)\n",
    "\n",
    "p=figure(x_axis_type='datetime',width=1000,height=300,sizing_mode='scale_width')\n",
    "p.title='Tesla stocks analysis using Candlestick Chart'\n",
    "p.grid.grid_line_alpha=.3\n",
    "\n",
    "hours_12=12*60*60*1000\n",
    "\n",
    "p.segment(df.index,df.High,df.index,df.Low,color='black')\n",
    "\n",
    "p.rect(df.index[df.Status=='Increase'],df.Middle[df.Status=='Increase'],hours_12,df.Height[df.Status=='Increase'],\n",
    "       fill_color='#7CFC00',line_color='#000000')\n",
    "\n",
    "p.rect(df.index[df.Status=='Decrease'],df.Middle[df.Status=='Decrease'],hours_12,df.Height[df.Status=='Decrease'],\n",
    "       fill_color='#FF0000',line_color='#000000')\n",
    "\n",
    "# output_file('CS.html')\n",
    "# show(p)\n",
    "\n",
    "script1,div1=components(p)\n",
    "cdn_js=CDN.js_files\n",
    "cdn_css=CDN.css_files\n",
    "cdn_js[0]\n",
    "# cdn_css[0]"
   ]
  }
 ],
 "metadata": {
  "kernelspec": {
   "display_name": "Python 3 (ipykernel)",
   "language": "python",
   "name": "python3"
  },
  "language_info": {
   "codemirror_mode": {
    "name": "ipython",
    "version": 3
   },
   "file_extension": ".py",
   "mimetype": "text/x-python",
   "name": "python",
   "nbconvert_exporter": "python",
   "pygments_lexer": "ipython3",
   "version": "3.9.5"
  }
 },
 "nbformat": 4,
 "nbformat_minor": 5
}
